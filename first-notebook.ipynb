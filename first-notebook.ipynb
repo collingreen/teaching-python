{
 "cells": [
  {
   "cell_type": "code",
   "execution_count": 1,
   "metadata": {},
   "outputs": [
    {
     "name": "stdout",
     "output_type": "stream",
     "text": [
      "Hello, world\n"
     ]
    }
   ],
   "source": [
    "# print is how you tell python to show a string (a string is a bunch of characters - we'll get into that later)\n",
    "# Making your program say \"Hello, world\" is a time-honored tradition for getting started on something. It is\n",
    "# often trivial to implement in code but ensures all the other systems are working as expected.\n",
    "\n",
    "# Hit shift-enter or press run above to run this block and see the output. Congratulations on getting this far!\n",
    "print(\"Hello, world\")"
   ]
  }
 ],
 "metadata": {
  "kernelspec": {
   "display_name": "Python 3",
   "language": "python",
   "name": "python3"
  },
  "language_info": {
   "codemirror_mode": {
    "name": "ipython",
    "version": 2
   },
   "file_extension": ".py",
   "mimetype": "text/x-python",
   "name": "python",
   "nbconvert_exporter": "python",
   "pygments_lexer": "ipython2",
   "version": "2.7.15"
  }
 },
 "nbformat": 4,
 "nbformat_minor": 2
}
